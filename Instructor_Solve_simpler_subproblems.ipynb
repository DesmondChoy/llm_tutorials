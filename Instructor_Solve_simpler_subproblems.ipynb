{
  "nbformat": 4,
  "nbformat_minor": 0,
  "metadata": {
    "colab": {
      "provenance": [],
      "authorship_tag": "ABX9TyOgAmEGDEEt51VElQyCu669",
      "include_colab_link": true
    },
    "kernelspec": {
      "name": "python3",
      "display_name": "Python 3"
    },
    "language_info": {
      "name": "python"
    }
  },
  "cells": [
    {
      "cell_type": "markdown",
      "metadata": {
        "id": "view-in-github",
        "colab_type": "text"
      },
      "source": [
        "<a href=\"https://colab.research.google.com/github/DesmondChoy/llm_tutorials/blob/main/Instructor_Solve_simpler_subproblems.ipynb\" target=\"_parent\"><img src=\"https://colab.research.google.com/assets/colab-badge.svg\" alt=\"Open In Colab\"/></a>"
      ]
    },
    {
      "cell_type": "code",
      "source": [
        "!pip install instructor pydantic google-generativeai -qq"
      ],
      "metadata": {
        "id": "E9mHU5WpKFpO"
      },
      "execution_count": 1,
      "outputs": []
    },
    {
      "cell_type": "code",
      "execution_count": 2,
      "metadata": {
        "id": "nDKWm5NxsfdZ"
      },
      "outputs": [],
      "source": [
        "import instructor\n",
        "import os\n",
        "\n",
        "from pydantic import BaseModel\n",
        "import google.generativeai as genai\n",
        "# from openai import OpenAI\n",
        "from typing import Iterable, Union\n",
        "from google.colab import userdata\n",
        "\n",
        "\n",
        "# os.environ['OPENAI_API_KEY'] = userdata.get('OPENAI_API_KEY')\n",
        "genai.configure(api_key=userdata.get('GOOGLE_API_KEY'))\n",
        "\n"
      ]
    },
    {
      "cell_type": "code",
      "source": [
        "class Subquestion(BaseModel):\n",
        "    question: str\n",
        "\n",
        "\n",
        "class Answer(BaseModel):\n",
        "    answer: Union[str, int]\n",
        "\n",
        "\n",
        "class SubquestionWithAnswers(BaseModel):\n",
        "    question: str\n",
        "    answer: Union[str, int]\n"
      ],
      "metadata": {
        "id": "vQgvOgS0Kgct"
      },
      "execution_count": 3,
      "outputs": []
    },
    {
      "cell_type": "code",
      "source": [
        "# client = instructor.from_openai(OpenAI())\n",
        "\n",
        "client = instructor.from_gemini(\n",
        "    client=genai.GenerativeModel(\n",
        "        model_name=\"models/gemini-2.0-flash-exp\",\n",
        "    ),\n",
        "    mode=instructor.Mode.GEMINI_JSON,\n",
        ")"
      ],
      "metadata": {
        "id": "qpEo772pKjRq"
      },
      "execution_count": 4,
      "outputs": []
    },
    {
      "cell_type": "code",
      "source": [
        "def decompose(question):\n",
        "    return client.chat.completions.create(\n",
        "        response_model=Iterable[Subquestion],\n",
        "        messages=[\n",
        "            {\n",
        "                \"role\": \"user\",\n",
        "                \"content\": f\"For this question: {question} - Break it down into simpler subquestions that can be solved sequentially\",\n",
        "            }\n",
        "        ],\n",
        "    )"
      ],
      "metadata": {
        "id": "e8Nb8j5bMU77"
      },
      "execution_count": 5,
      "outputs": []
    },
    {
      "cell_type": "code",
      "source": [
        "def solve(question, solved_questions, original_question):\n",
        "    return client.chat.completions.create(\n",
        "        response_model=Answer,\n",
        "        messages=[\n",
        "            {\n",
        "                \"role\": \"user\",\n",
        "                \"content\": f\"\"\"\n",
        "                    <original_question>\n",
        "                    {original_question}\n",
        "                    </original_question>\n",
        "\n",
        "                    <solved_subquestions>\n",
        "                    {solved_questions}\n",
        "                    </solved_subquestions>\n",
        "\n",
        "                    Solve this next subquestion: {question}\n",
        "                    \"\"\",\n",
        "            }\n",
        "        ],\n",
        "    ).answer\n"
      ],
      "metadata": {
        "id": "_KBqaJzwMac5"
      },
      "execution_count": 6,
      "outputs": []
    },
    {
      "cell_type": "code",
      "source": [
        "question = f\"\"\"You are standing outside a room with a closed door. There are three light switches on the wall outside the room. Each switch controls a different light bulb inside the room. You cannot see into the room and you cannot open the door until you know which switch controls which bulb.\n",
        "\n",
        "You are allowed to flip the switches however you like, but you can only enter the room once. After entering the room, you must be able to correctly identify which switch controls which bulb.\n",
        "\n",
        "?\"\"\"\n",
        "\n",
        "# Stage 1: Decompose Question into Subquestions\n",
        "subquestions = decompose(question)\n",
        "subquestions"
      ],
      "metadata": {
        "colab": {
          "base_uri": "https://localhost:8080/",
          "height": 104
        },
        "id": "F9Kl945LMpvl",
        "outputId": "a117e5db-167f-44b9-a255-063437b61f4b"
      },
      "execution_count": 7,
      "outputs": [
        {
          "output_type": "execute_result",
          "data": {
            "text/plain": [
              "[Subquestion(question='How can we manipulate the light switches outside the room to gather information about which switch corresponds to which bulb?'),\n",
              " Subquestion(question='What are the observable differences when the lights are on or off, besides their illumination?'),\n",
              " Subquestion(question='How can we use the heat generated by the bulbs to differentiate between them?'),\n",
              " Subquestion(question='Given the manipulations and the observations, how can we match each switch to its corresponding bulb?')]"
            ]
          },
          "metadata": {},
          "execution_count": 7
        }
      ]
    },
    {
      "cell_type": "code",
      "source": [
        "# Stage 2: Sequentially Solve Subquestions\n",
        "solved_questions = []\n",
        "for subquestion in subquestions:\n",
        "    solved_questions.append(\n",
        "        SubquestionWithAnswers(\n",
        "            question=subquestion.question,\n",
        "            answer=solve(subquestion, solved_questions, question),\n",
        "        )\n",
        "    )\n",
        "\n",
        "# Print\n",
        "for item in solved_questions:\n",
        "    print(f\"{item.question} {item.answer}\")"
      ],
      "metadata": {
        "colab": {
          "base_uri": "https://localhost:8080/",
          "height": 106
        },
        "id": "Dm-8pPwbSsTE",
        "outputId": "46fe9810-e888-4ae1-d6d6-1f3092e54a69"
      },
      "execution_count": 8,
      "outputs": [
        {
          "output_type": "stream",
          "name": "stdout",
          "text": [
            "How can we manipulate the light switches outside the room to gather information about which switch corresponds to which bulb? Flip the first switch and leave it on for a few minutes. Then, turn it off and flip the second switch on. Leave the third switch off. Now you can open the door.\n",
            "What are the observable differences when the lights are on or off, besides their illumination? The light bulbs that were on for a period of time will be warm to the touch, compared to those that were off or only recently turned on.\n",
            "How can we use the heat generated by the bulbs to differentiate between them? Enter the room and touch each of the bulbs. The bulb that is on corresponds to the second switch that was left on. The bulb that is warm is from the first switch. The remaining bulb corresponds to the remaining switch.\n",
            "Given the manipulations and the observations, how can we match each switch to its corresponding bulb? The first switch corresponds to the bulb that is warm. The second switch corresponds to the bulb that is on. The third switch corresponds to the bulb that is off and cool.\n"
          ]
        }
      ]
    }
  ]
}