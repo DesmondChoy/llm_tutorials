{
  "nbformat": 4,
  "nbformat_minor": 0,
  "metadata": {
    "colab": {
      "provenance": [],
      "authorship_tag": "ABX9TyMol9mdUhju55hGD+cQYMQQ",
      "include_colab_link": true
    },
    "kernelspec": {
      "name": "python3",
      "display_name": "Python 3"
    },
    "language_info": {
      "name": "python"
    }
  },
  "cells": [
    {
      "cell_type": "markdown",
      "metadata": {
        "id": "view-in-github",
        "colab_type": "text"
      },
      "source": [
        "<a href=\"https://colab.research.google.com/github/DesmondChoy/llm_tutorials/blob/main/Synthetic_Data.ipynb\" target=\"_parent\"><img src=\"https://colab.research.google.com/assets/colab-badge.svg\" alt=\"Open In Colab\"/></a>"
      ]
    },
    {
      "cell_type": "markdown",
      "source": [
        "# Import"
      ],
      "metadata": {
        "id": "7sGw5Cs2Thcy"
      }
    },
    {
      "cell_type": "code",
      "source": [
        "!pip install claudette fastcore -qq"
      ],
      "metadata": {
        "colab": {
          "base_uri": "https://localhost:8080/"
        },
        "id": "dXbYf3WUWZqw",
        "outputId": "e2910ab0-8730-46fe-d356-35f26452d207"
      },
      "execution_count": 1,
      "outputs": [
        {
          "output_type": "stream",
          "name": "stdout",
          "text": [
            "\u001b[?25l     \u001b[90m━━━━━━━━━━━━━━━━━━━━━━━━━━━━━━━━━━━━━━━━\u001b[0m \u001b[32m0.0/56.5 kB\u001b[0m \u001b[31m?\u001b[0m eta \u001b[36m-:--:--\u001b[0m\r\u001b[2K     \u001b[90m━━━━━━━━━━━━━━━━━━━━━━━━━━━━━━━━━━━━━━━━\u001b[0m \u001b[32m56.5/56.5 kB\u001b[0m \u001b[31m3.9 MB/s\u001b[0m eta \u001b[36m0:00:00\u001b[0m\n",
            "\u001b[?25h  Preparing metadata (setup.py) ... \u001b[?25l\u001b[?25hdone\n",
            "\u001b[2K   \u001b[90m━━━━━━━━━━━━━━━━━━━━━━━━━━━━━━━━━━━━━━━━\u001b[0m \u001b[32m946.0/946.0 kB\u001b[0m \u001b[31m16.4 MB/s\u001b[0m eta \u001b[36m0:00:00\u001b[0m\n",
            "\u001b[2K   \u001b[90m━━━━━━━━━━━━━━━━━━━━━━━━━━━━━━━━━━━━━━━━\u001b[0m \u001b[32m76.4/76.4 kB\u001b[0m \u001b[31m4.6 MB/s\u001b[0m eta \u001b[36m0:00:00\u001b[0m\n",
            "\u001b[2K   \u001b[90m━━━━━━━━━━━━━━━━━━━━━━━━━━━━━━━━━━━━━━━━\u001b[0m \u001b[32m78.0/78.0 kB\u001b[0m \u001b[31m4.0 MB/s\u001b[0m eta \u001b[36m0:00:00\u001b[0m\n",
            "\u001b[2K   \u001b[90m━━━━━━━━━━━━━━━━━━━━━━━━━━━━━━━━━━━━━━━━\u001b[0m \u001b[32m325.2/325.2 kB\u001b[0m \u001b[31m15.0 MB/s\u001b[0m eta \u001b[36m0:00:00\u001b[0m\n",
            "\u001b[2K   \u001b[90m━━━━━━━━━━━━━━━━━━━━━━━━━━━━━━━━━━━━━━━━\u001b[0m \u001b[32m58.3/58.3 kB\u001b[0m \u001b[31m3.0 MB/s\u001b[0m eta \u001b[36m0:00:00\u001b[0m\n",
            "\u001b[?25h  Building wheel for html2text (setup.py) ... \u001b[?25l\u001b[?25hdone\n"
          ]
        }
      ]
    },
    {
      "cell_type": "code",
      "source": [
        "import os\n",
        "from claudette import *\n",
        "# from fastcore.script import *\n",
        "from fastcore.utils import *\n",
        "from google.colab import userdata\n",
        "  from IPython.display import Markdown\n",
        "\n",
        "\n",
        "os.environ['ANTHROPIC_API_KEY'] = userdata.get('ANTHROPIC_API_KEY')\n"
      ],
      "metadata": {
        "id": "ciA-mRwIUPXc"
      },
      "execution_count": 2,
      "outputs": []
    },
    {
      "cell_type": "markdown",
      "source": [
        "# Using Haiku"
      ],
      "metadata": {
        "id": "iH5QTIxXTVSa"
      }
    },
    {
      "cell_type": "code",
      "source": [
        "model = models[-1] # haiku 3\n",
        "sp = \"You will help generate synethetic data of English and Spanish phrases.\"\n",
        "cli = Client(model)"
      ],
      "metadata": {
        "id": "esWo3rYHX9pL"
      },
      "execution_count": 3,
      "outputs": []
    },
    {
      "cell_type": "code",
      "source": [
        "class Translation():\n",
        "    \"Translation from an English phrase to a Spanish phrase\"\n",
        "    def __init__(self, english: str, chinese: str): store_attr()\n",
        "    def __repr__(self): return f\"{self.english} ➡ *{self.chinese}*\"\n",
        "\n",
        "# Translation(\"Hello, how are you today?\", \"您好，您今天好吗?\")"
      ],
      "metadata": {
        "id": "OoILM-JfV6la"
      },
      "execution_count": 4,
      "outputs": []
    },
    {
      "cell_type": "code",
      "source": [
        "def synthesize(pr): return cli.structured(pr, sp=sp, temp=1, tools=Translation)[0]\n",
        "\n",
        "prompt = 'Create an English and Chinese translation pair.'\n",
        "translations = [synthesize(prompt) for _ in range(10)]"
      ],
      "metadata": {
        "id": "6cHKf2hEU-JF"
      },
      "execution_count": 5,
      "outputs": []
    },
    {
      "cell_type": "code",
      "source": [
        "clps_fmt = '- {s}\\n\\n<details>\\n<summary> Click to show the rest </summary>\\n{ls}\\n</details>'\n",
        "def to_md(ss, collapsible=False):\n",
        "    ls = '\\n'.join(f'- {s}' for s in ss)\n",
        "    return clps_fmt.format(s=str(ss[0]), ls=ls.replace(f'- {ss[0]}', '')) if collapsible else ls\n",
        "def show(ss, collapsible=False): return Markdown(to_md(ss, collapsible=collapsible))"
      ],
      "metadata": {
        "id": "0dV-o5MVYd0f"
      },
      "execution_count": 6,
      "outputs": []
    },
    {
      "cell_type": "code",
      "source": [
        "show(translations)"
      ],
      "metadata": {
        "colab": {
          "base_uri": "https://localhost:8080/",
          "height": 203
        },
        "id": "gaDwPvlpZ5J0",
        "outputId": "5268d711-bcf1-4a0b-db54-59f2cb884c99"
      },
      "execution_count": 7,
      "outputs": [
        {
          "output_type": "execute_result",
          "data": {
            "text/plain": [
              "<IPython.core.display.Markdown object>"
            ],
            "text/markdown": "- How are you today? ➡ *你今天好吗?*\n- Hello, how are you? ➡ *你好,你好吗?*\n- The dog is running in the park. ➡ *狗在公园里跑。*\n- Hello, how are you today? ➡ *你好,你今天好吗?*\n- Hello, how are you today? ➡ *你好,你今天过得怎么样?*\n- <UNKNOWN> ➡ *<UNKNOWN>*\n- Hello, how are you today? ➡ *你好,你今天怎么样?*\n- Hello, how are you? ➡ *你好,你好吗?*\n- Hello, how are you? ➡ *你好,你怎么样?*\n- The cat is sleeping on the couch. ➡ *猫正在沙发上睡觉。*"
          },
          "metadata": {},
          "execution_count": 7
        }
      ]
    },
    {
      "cell_type": "code",
      "source": [
        "show(translations, collapsible=True)"
      ],
      "metadata": {
        "colab": {
          "base_uri": "https://localhost:8080/",
          "height": 64
        },
        "id": "VFY-JgcobBXT",
        "outputId": "9206a9b6-2419-43c9-f325-4441779385dc"
      },
      "execution_count": 8,
      "outputs": [
        {
          "output_type": "execute_result",
          "data": {
            "text/plain": [
              "<IPython.core.display.Markdown object>"
            ],
            "text/markdown": "- How are you today? ➡ *你今天好吗?*\n\n<details>\n<summary> Click to show the rest </summary>\n\n- Hello, how are you? ➡ *你好,你好吗?*\n- The dog is running in the park. ➡ *狗在公园里跑。*\n- Hello, how are you today? ➡ *你好,你今天好吗?*\n- Hello, how are you today? ➡ *你好,你今天过得怎么样?*\n- <UNKNOWN> ➡ *<UNKNOWN>*\n- Hello, how are you today? ➡ *你好,你今天怎么样?*\n- Hello, how are you? ➡ *你好,你好吗?*\n- Hello, how are you? ➡ *你好,你怎么样?*\n- The cat is sleeping on the couch. ➡ *猫正在沙发上睡觉。*\n</details>"
          },
          "metadata": {},
          "execution_count": 8
        }
      ]
    },
    {
      "cell_type": "code",
      "source": [
        "examples = [\n",
        "    Translation(\n",
        "        english=\"Hello, my name is Nathan. I am a research scientist at an AI startup.\",\n",
        "        chinese=\"你好，我叫Nathan。我是一家人工智能初创公司的研究科学家。.\"),\n",
        "    Translation(\n",
        "        english=\"How much wood could a woodchuck chuck if a woodchuck could chuck wood?\",\n",
        "        chinese=\"如果土拨鼠能丢木头的话，一只土拨鼠能丢多少木头？\"),\n",
        "    Translation(\n",
        "        english=\"Thomas Cranmer (2 July 1489 - 21 March 1556) was a leader of the English Reformation and Archbishop of Canterbury during the reigns of Henry VIII, Edward VI and, for a short time, Mary I. He helped build the case for the annulment of Henry's marriage to Catherine of Aragon, which was one of the causes of the separation of the English Church from union with the Holy See.\",\n",
        "        chinese=\"托马斯·克兰默（1489年7月2日至1556年3月21日）是英国宗教改革的领袖，在亨利八世、爱德华六世以及短暂的玛丽一世统治期间担任坎特伯雷大主教。他帮助建立了亨利与阿拉贡的凯瑟琳解除婚姻关系的理据，这是英国教会脱离罗马教廷的原因之一。\"\n",
        "    ),\n",
        "]"
      ],
      "metadata": {
        "id": "Ldb_c6a3b_YQ"
      },
      "execution_count": 9,
      "outputs": []
    },
    {
      "cell_type": "code",
      "source": [
        "examples_md = to_md(examples)\n",
        "Markdown(examples_md)"
      ],
      "metadata": {
        "colab": {
          "base_uri": "https://localhost:8080/",
          "height": 151
        },
        "id": "lkJJboc9Q8n9",
        "outputId": "80519011-f156-4745-fb16-79d79105736e"
      },
      "execution_count": 10,
      "outputs": [
        {
          "output_type": "execute_result",
          "data": {
            "text/plain": [
              "<IPython.core.display.Markdown object>"
            ],
            "text/markdown": "- Hello, my name is Nathan. I am a research scientist at an AI startup. ➡ *你好，我叫Nathan。我是一家人工智能初创公司的研究科学家。.*\n- How much wood could a woodchuck chuck if a woodchuck could chuck wood? ➡ *如果土拨鼠能丢木头的话，一只土拨鼠能丢多少木头？*\n- Thomas Cranmer (2 July 1489 - 21 March 1556) was a leader of the English Reformation and Archbishop of Canterbury during the reigns of Henry VIII, Edward VI and, for a short time, Mary I. He helped build the case for the annulment of Henry's marriage to Catherine of Aragon, which was one of the causes of the separation of the English Church from union with the Holy See. ➡ *托马斯·克兰默（1489年7月2日至1556年3月21日）是英国宗教改革的领袖，在亨利八世、爱德华六世以及短暂的玛丽一世统治期间担任坎特伯雷大主教。他帮助建立了亨利与阿拉贡的凯瑟琳解除婚姻关系的理据，这是英国教会脱离罗马教廷的原因之一。*"
          },
          "metadata": {},
          "execution_count": 10
        }
      ]
    },
    {
      "cell_type": "code",
      "source": [
        "prompt_template = \"\"\"\\\n",
        "Create an English and Chinese translation pair that is similar to the examples.\n",
        "\n",
        "<examples>\n",
        "{examples}\n",
        "</examples>\"\"\"\n",
        "prompt = prompt_template.format(examples=examples_md)\n",
        "print(prompt)"
      ],
      "metadata": {
        "colab": {
          "base_uri": "https://localhost:8080/"
        },
        "id": "10Z-FzbPRTVR",
        "outputId": "53ec53d4-15d7-476c-9bc7-ac995ec8129a"
      },
      "execution_count": 11,
      "outputs": [
        {
          "output_type": "stream",
          "name": "stdout",
          "text": [
            "Create an English and Chinese translation pair that is similar to the examples.\n",
            "\n",
            "<examples>\n",
            "- Hello, my name is Nathan. I am a research scientist at an AI startup. ➡ *你好，我叫Nathan。我是一家人工智能初创公司的研究科学家。.*\n",
            "- How much wood could a woodchuck chuck if a woodchuck could chuck wood? ➡ *如果土拨鼠能丢木头的话，一只土拨鼠能丢多少木头？*\n",
            "- Thomas Cranmer (2 July 1489 - 21 March 1556) was a leader of the English Reformation and Archbishop of Canterbury during the reigns of Henry VIII, Edward VI and, for a short time, Mary I. He helped build the case for the annulment of Henry's marriage to Catherine of Aragon, which was one of the causes of the separation of the English Church from union with the Holy See. ➡ *托马斯·克兰默（1489年7月2日至1556年3月21日）是英国宗教改革的领袖，在亨利八世、爱德华六世以及短暂的玛丽一世统治期间担任坎特伯雷大主教。他帮助建立了亨利与阿拉贡的凯瑟琳解除婚姻关系的理据，这是英国教会脱离罗马教廷的原因之一。*\n",
            "</examples>\n"
          ]
        }
      ]
    },
    {
      "cell_type": "code",
      "source": [
        "show([synthesize(prompt) for _ in range(5)])\n"
      ],
      "metadata": {
        "colab": {
          "base_uri": "https://localhost:8080/",
          "height": 133
        },
        "id": "sHi5zIDsReBs",
        "outputId": "9321de8f-fb7e-4b72-9ab6-8d96e1091902"
      },
      "execution_count": 12,
      "outputs": [
        {
          "output_type": "execute_result",
          "data": {
            "text/plain": [
              "<IPython.core.display.Markdown object>"
            ],
            "text/markdown": "- I enjoy going on hikes in the mountains and exploring nature. ➡ *我喜欢在山里徒步并探索大自然。*\n- John is a software engineer who enjoys hiking in the mountains on the weekends. ➡ *约翰是一名软件工程师,周末喜欢在山里散步。*\n- I enjoy spending time with my family and friends on the weekends. ➡ *我很喜欢在周末的时候和家人朋友在一起。*\n- The cat jumps high. ➡ *猫跳得很高。*\n- The world's largest technology company headquartered in Cupertino, California is Apple Inc. It was founded in 1976 by Steve Jobs, Steve Wozniak, and Ronald Wayne. ➡ *总部位于加州库比蒂诺的全球最大科技公司是苹果公司。它于1976年由史蒂夫·乔布斯、史蒂夫·沃兹尼亚克和罗纳德·韦恩创立。*"
          },
          "metadata": {},
          "execution_count": 12
        }
      ]
    },
    {
      "cell_type": "markdown",
      "source": [
        "Try putting the examples first in the prompt:"
      ],
      "metadata": {
        "id": "p2Poo0M-SK7r"
      }
    },
    {
      "cell_type": "code",
      "source": [
        "prompt_template = \"\"\"\\\n",
        "<examples>\n",
        "{examples}\n",
        "</examples>\n",
        "\n",
        "Create an English and Spanish translation pair that is similar to the examples.\"\"\"\n",
        "prompt = prompt_template.format(examples=examples_md)\n",
        "print(prompt)"
      ],
      "metadata": {
        "colab": {
          "base_uri": "https://localhost:8080/"
        },
        "id": "frsn2fXVRrVG",
        "outputId": "d3fbe941-2c1c-4a9e-de8b-86ef194ff4b1"
      },
      "execution_count": 13,
      "outputs": [
        {
          "output_type": "stream",
          "name": "stdout",
          "text": [
            "<examples>\n",
            "- Hello, my name is Nathan. I am a research scientist at an AI startup. ➡ *你好，我叫Nathan。我是一家人工智能初创公司的研究科学家。.*\n",
            "- How much wood could a woodchuck chuck if a woodchuck could chuck wood? ➡ *如果土拨鼠能丢木头的话，一只土拨鼠能丢多少木头？*\n",
            "- Thomas Cranmer (2 July 1489 - 21 March 1556) was a leader of the English Reformation and Archbishop of Canterbury during the reigns of Henry VIII, Edward VI and, for a short time, Mary I. He helped build the case for the annulment of Henry's marriage to Catherine of Aragon, which was one of the causes of the separation of the English Church from union with the Holy See. ➡ *托马斯·克兰默（1489年7月2日至1556年3月21日）是英国宗教改革的领袖，在亨利八世、爱德华六世以及短暂的玛丽一世统治期间担任坎特伯雷大主教。他帮助建立了亨利与阿拉贡的凯瑟琳解除婚姻关系的理据，这是英国教会脱离罗马教廷的原因之一。*\n",
            "</examples>\n",
            "\n",
            "Create an English and Spanish translation pair that is similar to the examples.\n"
          ]
        }
      ]
    },
    {
      "cell_type": "code",
      "source": [
        "show([synthesize(prompt) for _ in range(5)])\n"
      ],
      "metadata": {
        "colab": {
          "base_uri": "https://localhost:8080/",
          "height": 185
        },
        "id": "J4FoXEXWRuib",
        "outputId": "8d26fdb9-93bd-4f26-c4aa-f08eee2699e9"
      },
      "execution_count": 14,
      "outputs": [
        {
          "output_type": "execute_result",
          "data": {
            "text/plain": [
              "<IPython.core.display.Markdown object>"
            ],
            "text/markdown": "- I love the outdoors and enjoy hiking in the mountains. The fresh air and scenic views are so refreshing. ➡ *我热爱户外生活,喜欢在山里远足。清新的空气和美丽的景色让人神清气爽。*\n- The quick brown fox jumps over the lazy dog. ➡ *敏捷的棕色狐狸跳过了懒惰的狗。*\n- I love to travel and explore new places around the world. My dream is to visit all seven continents. ➡ *我喜欢旅行,探索世界各地的新地方。我的梦想是能去到所有的七大洲。*\n- My favorite color is blue and I enjoy going on hikes in the mountains. ➡ *我最喜欢的颜色是蓝色,我很喜欢在山里远足。*\n- Maya Angelou was an acclaimed American poet, memoirist, and civil rights activist. She is best known for her series of seven autobiographical volumes, which focus on her childhood and early adult experiences. ➡ *玛雅·安吉洛是一位著名的美国诗人、自传作家和民权活动家。她最著名的是她的7卷自传系列,这些作品主要讲述她的童年和早期成年经历。*"
          },
          "metadata": {},
          "execution_count": 14
        }
      ]
    },
    {
      "cell_type": "markdown",
      "source": [
        "Better quality output!"
      ],
      "metadata": {
        "id": "hPE63cEdSb-6"
      }
    },
    {
      "cell_type": "markdown",
      "source": [
        "Add more diversity by including different topics:"
      ],
      "metadata": {
        "id": "a4ZmZb52Shez"
      }
    },
    {
      "cell_type": "code",
      "source": [
        "topics = [\"otters\", \"penguins\", \"sloths\", \"cats\", \"dogs\"]\n",
        "prompt_template = \"\"\"\\\n",
        "Create an English and Spanish translation pair about the following topic:\n",
        "<topic>{topic}</topic>\"\"\"\n",
        "print(prompt_template.format(topic=topics[0]))\n"
      ],
      "metadata": {
        "colab": {
          "base_uri": "https://localhost:8080/"
        },
        "id": "kEs911ZDSA82",
        "outputId": "1588757b-4c27-4b18-bcce-8aa9bc05e4a1"
      },
      "execution_count": 15,
      "outputs": [
        {
          "output_type": "stream",
          "name": "stdout",
          "text": [
            "Create an English and Spanish translation pair about the following topic:\n",
            "<topic>otters</topic>\n"
          ]
        }
      ]
    },
    {
      "cell_type": "code",
      "source": [
        "show([synthesize(prompt_template.format(topic=topic)) for topic in topics])\n"
      ],
      "metadata": {
        "colab": {
          "base_uri": "https://localhost:8080/",
          "height": 133
        },
        "id": "7GrsOd0iSJuf",
        "outputId": "c031da3c-23a8-437e-bc34-6d0b1ac42b8a"
      },
      "execution_count": 16,
      "outputs": [
        {
          "output_type": "execute_result",
          "data": {
            "text/plain": [
              "<IPython.core.display.Markdown object>"
            ],
            "text/markdown": "- Otters are aquatic mammals that are known for their playful behavior and ability to float on their backs in the water. ➡ *水獭是水生哺乳动物,以其玩耍行为和在水面上漂浮的能力而闻名。*\n- Penguins are cute, flightless birds that live in cold, snowy environments. ➡ *企鹅是可爱的无翅飞鸟,居住在寒冷多雪的环境中。*\n- Sloths are slow-moving tree-dwelling mammals found in Central and South America. ➡ *树栖性哺乳动物树懒通常居住在中美洲和南美洲。*\n- Cats are adorable and playful animals. ➡ *猫咪是可爱且灵活的动物。*\n- Dogs are loyal and loving companions. ➡ *perros son fieles y amorosos compañeros.*"
          },
          "metadata": {},
          "execution_count": 16
        }
      ]
    },
    {
      "cell_type": "markdown",
      "source": [
        "Prompts are now diverse, but the last two are lacking in quality.\n",
        "\n",
        "Now try adding the examples (at the start) in the prompt:"
      ],
      "metadata": {
        "id": "uVN-Cbl5SraC"
      }
    },
    {
      "cell_type": "code",
      "source": [
        "prompt_template = \"\"\"\\\n",
        "<examples>\n",
        "{examples}\n",
        "</examples>\n",
        "\n",
        "Create an English and Spanish translation pair that is similar to the examples and is about the following topic:\n",
        "<topic>{topic}</topic>\"\"\"\n",
        "\n",
        "translations = [synthesize(prompt_template.format(examples=examples_md, topic=topic))\n",
        "                for topic in topics]\n",
        "show(translations, collapsible=True)"
      ],
      "metadata": {
        "colab": {
          "base_uri": "https://localhost:8080/",
          "height": 388
        },
        "id": "jTlyGZFpSuEu",
        "outputId": "fe503cec-3448-4b87-8dec-f909e6add411"
      },
      "execution_count": 17,
      "outputs": [
        {
          "output_type": "execute_result",
          "data": {
            "text/plain": [
              "<IPython.core.display.Markdown object>"
            ],
            "text/markdown": "- Otters are small to medium-sized aquatic mammals. They have webbed feet and dense fur that keeps them warm in the water. Otters are playful and known for their tendency to hold hands while sleeping to avoid drifting apart. They are found in many parts of the world, including North America, Europe, and Asia. ➡ *水獭是一种小型到中型的水生哺乳动物。它们有蹼足和密集的毛皮,可以帮助它们在水中保持温暖。水獭很爱玩耍,并且有习惯在睡眠时牵手以避免彼此分散。它们分布在世界各地,包括北美、欧洲和亚洲。*\n\n<details>\n<summary> Click to show the rest </summary>\n\n- Penguins are fascinating seabirds that live in the Southern Hemisphere. They are known for their distinctive black and white coloring, waddling gait, and ability to swim gracefully underwater. ➡ *企鹅是生活在南半球的有趣的海鸟。它们以独特的黑白色彩、摇摆的步态和在水中优雅游泳的能力而闻名。*\n- Sloths are slow-moving mammals that live in the trees of Central and South America. They have long limbs, sharp claws, and a shaggy coat that helps them blend in with the leaves and branches. Sloths are known for their leisurely pace, often spending most of the day sleeping or hanging upside down. Despite their sluggish reputation, sloths are skilled climbers and can even swim. Their diet consists mainly of leaves, which they digest slowly due to their low metabolism. ➡ *树獭是生活在中美洲和南美洲树木上的慢性哺乳动物。它们有长长的四肢、锐利的爪子和有助于融入叶子和树枝的松软毛皮。树獭以悠闲的步伐著称,通常一天大部分时间都在睡觉或倒挂。尽管它们以缓慢著称,但树獭是熟练的攀登者,甚至会游泳。它们的饮食主要由叶子组成,由于代谢率低,消化也很缓慢。*\n- Cats are small, agile mammals that are known for their independent and playful nature. They are popular household pets that provide companionship and entertainment to many people. Cats are excellent hunters, using their sharp senses and quick reflexes to catch small prey. They are also known for their flexibility, as they can twist and turn their bodies in amazing ways. ➡ *猫是小型敏捷的哺乳动物,以其独立和顽皮的性格而闻名。它们是受欢迎的家庭宠物,为许多人提供了伴侣和娱乐。猫是出色的猎手,利用敏锐的感官和快速的反射动作捕捉小型猎物。它们也以其灵活性而闻名,能够以惊人的方式扭转和转动身体。*\n- Dogs are often referred to as \"man's best friend\". They are loyal, affectionate, and make great companions. Many breeds of dogs, such as golden retrievers, labradors, and poodles, are popular family pets known for their friendly and intelligent personalities. ➡ *狗狗通常被称为\"人类最好的朋友\"。它们忠诚、富有感情,是非常好的伙伴。许多狗狗品种,如金毛猎犬、拉布拉多犬和贵宾犬,都是广受欢迎的家庭宠物,以它们友好和聪明的性格著称。*\n</details>"
          },
          "metadata": {},
          "execution_count": 17
        }
      ]
    },
    {
      "cell_type": "markdown",
      "source": [
        "# Using Sonnet 3.5"
      ],
      "metadata": {
        "id": "j_8lHIN8TQqN"
      }
    },
    {
      "cell_type": "code",
      "source": [
        "sp = \"You will help generate synethetic data of English and Spanish phrases.\"\n",
        "cli = Client('claude-3-5-sonnet-latest')  # sonnet 3.5b"
      ],
      "metadata": {
        "id": "MbkGMzEpTTIc"
      },
      "execution_count": 19,
      "outputs": []
    },
    {
      "cell_type": "code",
      "source": [
        "translations = [synthesize(prompt_template.format(examples=examples_md, topic=topic))\n",
        "                for topic in topics]\n",
        "show(translations, collapsible=True)"
      ],
      "metadata": {
        "colab": {
          "base_uri": "https://localhost:8080/",
          "height": 284
        },
        "id": "8bYxofbaTphP",
        "outputId": "b28d50aa-ea4b-4527-c374-a2cf1a9b320a"
      },
      "execution_count": 20,
      "outputs": [
        {
          "output_type": "execute_result",
          "data": {
            "text/plain": [
              "<IPython.core.display.Markdown object>"
            ],
            "text/markdown": "- Sea otters are remarkable marine mammals that use tools like rocks to crack open shellfish. They often float on their backs while eating and hold hands with other otters while sleeping to avoid drifting apart. ➡ *海獭是非凡的海洋哺乳动物，它们使用石头等工具来打开贝类。它们经常在进食时仰卧漂浮，并在睡觉时与其他海獭手牵手以避免漂离。*\n\n<details>\n<summary> Click to show the rest </summary>\n\n- Emperor penguins are the largest of all penguin species, standing at about 4 feet tall. They survive the harsh Antarctic winters by huddling together in large groups to stay warm, while the males carefully balance their precious eggs on their feet. ➡ *帝企鹅是所有企鹅物种中体型最大的，身高约4英尺。它们通过在严酷的南极冬季里群体抱团取暖来生存，而雄性企鹅则小心翼翼地将珍贵的蛋平衡在它们的脚上。*\n- Sloths are fascinating mammals that move incredibly slowly through the rainforest canopy. They spend most of their time hanging upside down in trees and can turn their heads 270 degrees to observe their surroundings. ➡ *树懒是一种令人着迷的哺乳动物，它们在热带雨林树冠中移动速度极其缓慢。它们大部分时间都倒挂在树上，能够将头部转动270度来观察周围环境。*\n- My cat loves to chase laser pointers and play with yarn. She spends hours jumping around the house, knocking things over in her excitement. ➡ *Mi gato ama perseguir punteros láser y jugar con hilo. Ella pasa horas saltando por la casa, tirando cosas por su emoción.*\n- My golden retriever loves to play fetch in the park every morning. He gets so excited when he sees the tennis ball that his tail wags uncontrollably. ➡ *我的金毛寻回犬每天早上都喜欢在公园里玩捡球游戏。当他看到网球时，他会兴奋得尾巴不受控制地摇摆。*\n</details>"
          },
          "metadata": {},
          "execution_count": 20
        }
      ]
    }
  ]
}