{
  "nbformat": 4,
  "nbformat_minor": 0,
  "metadata": {
    "colab": {
      "provenance": [],
      "authorship_tag": "ABX9TyMIeUzW6OLLeKbAC4P5iFUN",
      "include_colab_link": true
    },
    "kernelspec": {
      "name": "python3",
      "display_name": "Python 3"
    },
    "language_info": {
      "name": "python"
    }
  },
  "cells": [
    {
      "cell_type": "markdown",
      "metadata": {
        "id": "view-in-github",
        "colab_type": "text"
      },
      "source": [
        "<a href=\"https://colab.research.google.com/github/DesmondChoy/llm_tutorials/blob/main/vapi_voice_assistant.ipynb\" target=\"_parent\"><img src=\"https://colab.research.google.com/assets/colab-badge.svg\" alt=\"Open In Colab\"/></a>"
      ]
    },
    {
      "cell_type": "code",
      "source": [
        "import requests\n",
        "from google.colab import userdata\n"
      ],
      "metadata": {
        "id": "GNTqvx-mFf0j"
      },
      "execution_count": 1,
      "outputs": []
    },
    {
      "cell_type": "code",
      "source": [
        "system_prompt = \"\"\"\n",
        "Here is a system prompt for a career coach persona inspired by David Goggins:\n",
        "You are a relentless, tough-love career coach in the mold of David Goggins. Your coaching style is intense, brutally honest and takes a no-excuses approach to helping clients reach their full potential. You believe that success comes from stepping out of your comfort zone, facing your fears, and doing the hard work day in and day out.\n",
        "Key traits:\n",
        "Disciplined and driven. You lead by example with your own rigorous work ethic and commitment to continuous self-improvement. You challenge clients to develop unshakeable discipline in pursuit of their goals.\n",
        "Resilient and mentally tough. You teach clients to build resilience by leaning into challenges, pain and failure. You help them develop a \"can't hurt me\" mindset to overcome all obstacles.\n",
        "Brutally honest and direct. You tell clients what they need to hear, not what they want to hear. You cut through excuses and limiting beliefs with blunt, tough-love feedback.\n",
        "Demanding and challenging. You set high expectations and constantly push clients out of their comfort zone. You design intense challenges to help them expand their mental and physical limits.\n",
        "Inspiring and empowering. You lead by example and your powerful personal story of overcoming adversity. You make clients believe they are capable of far more than they know.\n",
        "Unconventional and intense. You take an unorthodox, no-nonsense approach that goes against common self-help advice. You push clients to the brink to help them find their hidden reserves of strength.\n",
        "Before giving any advice, seek to understand the client's current situation, goals and pain points by asking direct questions like:\n",
        "What's your biggest challenge or obstacle right now? What's holding you back from what you really want?\n",
        "How committed are you to doing whatever it takes to achieve your goal? Where do you tend to give up or make excuses?\n",
        "What would you attempt to do if you knew you couldn't fail? What if the only failure was not facing your fears?\n",
        "On a scale of 1-10, how hard are you working right now to change your situation? What would it look like to give 100% effort?\n",
        "Your mission is to help the client build unshakeable discipline, mental toughness and resilience. You motivate them to transcend discomfort, do the hard work and never settle for less than their best. With an intense, demanding and unconventional approach, you empower clients to defy the odds and achieve what seems impossible.\n",
        "\"\"\""
      ],
      "metadata": {
        "id": "bbQjyc76Rwoe"
      },
      "execution_count": 2,
      "outputs": []
    },
    {
      "cell_type": "code",
      "source": [
        "# Your Vapi API Authorization token\n",
        "auth_token = userdata.get('VAPI_API')\n",
        "# The Phone Number ID, and the Customer details for the call\n",
        "phone_number_id = userdata.get('TWILIO_NUM')\n",
        "customer_number = userdata.get('CUST_NUM')"
      ],
      "metadata": {
        "id": "bKWYMA-XEDEm"
      },
      "execution_count": 3,
      "outputs": []
    },
    {
      "cell_type": "code",
      "source": [
        "# Create the header with Authorization token\n",
        "headers = {\n",
        "    'Authorization': f'Bearer {auth_token}',\n",
        "    'Content-Type': 'application/json',\n",
        "}\n",
        "\n",
        "# Create the data payload for the API request\n",
        "data = {\n",
        "    'assistant': {\n",
        "        \"firstMessage\": \"Desmond, how are you?\",\n",
        "        \"model\": {\n",
        "            \"provider\": \"groq\",\n",
        "            \"model\": \"mixtral-8x7b-32768\",\n",
        "            \"maxTokens\": 250,\n",
        "            \"messages\": [\n",
        "                {\n",
        "                    \"role\": \"system\",\n",
        "                    \"content\": system_prompt\n",
        "                }\n",
        "            ]\n",
        "        },\n",
        "        \"voice\": \"matt-playht\",\n",
        "        \"endCallPhrases\": [\"goodbye\", \"see you\"],\n",
        "        \"backgroundSound\": \"off\",\n",
        "    },\n",
        "\n",
        "    'phoneNumberId': phone_number_id,\n",
        "    'customer': {\n",
        "        'number': customer_number,\n",
        "    },\n",
        "}\n",
        "\n",
        "# Make the POST request to Vapi to create the phone call\n",
        "response = requests.post(\n",
        "    'https://api.vapi.ai/call/phone', headers=headers, json=data)\n",
        "\n",
        "# Check if the request was successful and print the response\n",
        "if response.status_code == 201:\n",
        "    print('Call created successfully')\n",
        "else:\n",
        "    print('Failed to create call')\n",
        "    print(response.text)\n"
      ],
      "metadata": {
        "colab": {
          "base_uri": "https://localhost:8080/"
        },
        "id": "bnJz7SPuFwgc",
        "outputId": "9d237090-0fe0-4532-c452-f0fba96728ac"
      },
      "execution_count": 4,
      "outputs": [
        {
          "output_type": "stream",
          "name": "stdout",
          "text": [
            "Call created successfully\n"
          ]
        }
      ]
    }
  ]
}