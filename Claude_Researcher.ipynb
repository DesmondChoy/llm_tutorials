{
  "nbformat": 4,
  "nbformat_minor": 0,
  "metadata": {
    "colab": {
      "provenance": [],
      "include_colab_link": true
    },
    "kernelspec": {
      "name": "python3",
      "display_name": "Python 3"
    },
    "language_info": {
      "name": "python"
    }
  },
  "cells": [
    {
      "cell_type": "markdown",
      "metadata": {
        "id": "view-in-github",
        "colab_type": "text"
      },
      "source": [
        "<a href=\"https://colab.research.google.com/github/DesmondChoy/llm_tutorials/blob/main/Claude_Researcher.ipynb\" target=\"_parent\"><img src=\"https://colab.research.google.com/assets/colab-badge.svg\" alt=\"Open In Colab\"/></a>"
      ]
    },
    {
      "cell_type": "markdown",
      "source": [
        "Taken from [Matt Shumer](https://github.com/mshumer/ai-researcher/blob/main/Claude_Researcher.ipynb)'s github.\n",
        "\n",
        "https://console.groq.com/docs/text-chat\n",
        "\n",
        "Can we use Llama3-70B to generate the subtopics, and have Claude 3 Opus as the boss and summarize?"
      ],
      "metadata": {
        "id": "Fcgnt8bcJ9R9"
      }
    },
    {
      "cell_type": "code",
      "source": [
        "!pip install serpapi groq -qq\n",
        "\n",
        "import requests\n",
        "import json\n",
        "import time\n",
        "import ast\n",
        "import re\n",
        "from groq import Groq\n",
        "from google.colab import userdata\n",
        "\n",
        "\n",
        "ANTHROPIC_API_KEY = userdata.get('ANTHROPIC_API_KEY')  # Replace with your Anthropic API key\n",
        "SERP_API_KEY = userdata.get('SERP_API_KEY')  # Replace with your SERP API key\n",
        "client = Groq(api_key = userdata.get('GROQ_API_KEY'))"
      ],
      "metadata": {
        "id": "aCGIopPW_RMi"
      },
      "execution_count": 4,
      "outputs": []
    },
    {
      "cell_type": "markdown",
      "source": [
        "# Define function to call LLM to generate text"
      ],
      "metadata": {
        "id": "ZIPs311v-YcN"
      }
    },
    {
      "cell_type": "markdown",
      "source": [
        "The `remove_first_line()` function is defined to remove the first line of a string if it starts with \"Here\" and ends with a colon (\":\"). This function is used to clean up the generated text responses."
      ],
      "metadata": {
        "id": "1ezYoFW1-Sn0"
      }
    },
    {
      "cell_type": "code",
      "source": [
        "# def remove_first_line(test_string):\n",
        "#     if test_string.startswith(\"Here\") and test_string.split(\"\\n\")[0].strip().endswith(\":\"):\n",
        "#         return re.sub(r'^.*\\n', '', test_string, count=1)\n",
        "#     return test_string"
      ],
      "metadata": {
        "id": "n0tUoBtEs-bg"
      },
      "execution_count": null,
      "outputs": []
    },
    {
      "cell_type": "markdown",
      "source": [
        "The `generate_text()` function is defined to generate text using the Anthropic API. It takes a prompt, model, max_tokens, and temperature as parameters. It sends a POST request to the Anthropic API with the provided parameters and returns the generated text after removing the first line using the `remove_first_line()` function."
      ],
      "metadata": {
        "id": "5R1lHuo6LmoA"
      }
    },
    {
      "cell_type": "markdown",
      "source": [
        "[Claude model names](https://docs.anthropic.com/claude/docs/models-overview#:~:text=request%20using%20Claude.-,Claude%203%3A%20A%20new%20generation%20of%20AI,-Model) and [models supported by Groq](https://console.groq.com/docs/models).  \n",
        "\n",
        "Models consideration: Long context windows are a must.\n"
      ],
      "metadata": {
        "id": "CdVp4IXptXDK"
      }
    },
    {
      "cell_type": "markdown",
      "source": [
        "JSON mode is a beta feature that guarantees all chat completions are valid JSON.\n",
        "\n",
        "Usage:\n",
        "\n",
        "Set \"response_format\": {\"type\": \"json_object\"} in your chat completion request"
      ],
      "metadata": {
        "id": "TscbWDEjpyCh"
      }
    },
    {
      "cell_type": "code",
      "source": [
        "def generate_text_groq(prompt, model=\"llama3-70b-8192\", max_tokens=4000, temperature=0.7):\n",
        "\n",
        "  chat_completion = client.chat.completions.create(\n",
        "    messages=[\n",
        "        {\n",
        "            \"role\": \"system\",\n",
        "            \"content\": \"You are a world-class researcher. Analyze the given information and generate a well-structured report.\"\n",
        "        },\n",
        "        {\n",
        "            \"role\": \"user\",\n",
        "            \"content\": prompt,\n",
        "        }\n",
        "    ],\n",
        "    model=model,\n",
        "    response_format={\"type\": \"json_object\"},\n",
        "    temperature=temperature,\n",
        "    max_tokens=max_tokens,\n",
        "    top_p=0.95,\n",
        "    stop=None,\n",
        "    stream=False\n",
        "    )\n",
        "\n",
        "  return chat_completion\n",
        "\n",
        "  # print(chat_completion.choices[0].message.content)\n",
        "\n"
      ],
      "metadata": {
        "id": "RR7wCyyUq1TH"
      },
      "execution_count": 37,
      "outputs": []
    },
    {
      "cell_type": "code",
      "source": [
        "reply = generate_text_groq(\"Comment on the value 0.7 being used as temperature for LLMs? Why is it commonly used? What other values should be considered? Reply in JSON.\")"
      ],
      "metadata": {
        "id": "gI-Xl2GjrsC_"
      },
      "execution_count": 39,
      "outputs": []
    },
    {
      "cell_type": "code",
      "source": [
        "print(reply.choices[0].message.content)"
      ],
      "metadata": {
        "colab": {
          "base_uri": "https://localhost:8080/"
        },
        "id": "QZinFxbGsP8s",
        "outputId": "c735f27d-b9e7-442f-947b-c403ad98196a"
      },
      "execution_count": 40,
      "outputs": [
        {
          "output_type": "stream",
          "name": "stdout",
          "text": [
            "{\n",
            "\"Title\": \"Analysis of Temperature Value 0.7 in LLMs\",\n",
            "\"Introduction\": {\n",
            "\"text\": \"The value 0.7 is commonly used as the temperature for Large Language Models (LLMs). This report examines the significance of this value and explores alternative temperature values to consider.\"\n",
            "},\n",
            "\"Background\": {\n",
            "\"text\": \"Temperature is a hyperparameter in LLMs that controls the randomness of the output. A lower temperature value results in more deterministic output, while a higher value increases the randomness.\"\n",
            "},\n",
            "\"Analysis\": {\n",
            "\"Value 0.7\": {\n",
            "\"significance\": \"The value 0.7 is commonly used as it provides a good balance between fluency and diversity in the generated text.\",\n",
            "\"reasons\": [\n",
            "\"Provides a reasonable trade-off between exploration and exploitation\",\n",
            "\"Facilitates the generation of coherent and diverse text\"\n",
            "]\n",
            "},\n",
            "\"Other Values to Consider\": [\n",
            "{\n",
            "\"value\": 0.5,\n",
            "\"description\": \"A lower temperature value, resulting in more deterministic output, which can be useful for tasks requiring high precision.\"\n",
            "},\n",
            "{\n",
            "\"value\": 1.0,\n",
            "\"description\": \"A higher temperature value, increasing the randomness of the output, which can be beneficial for tasks requiring creativity and diversity.\"\n",
            "},\n",
            "{\n",
            "\"value\": 0.3,\n",
            "\"description\": \"An even lower temperature value, suitable for tasks that prioritize precision over diversity.\"\n",
            "}\n",
            "]\n",
            "},\n",
            "\"Conclusion\": {\n",
            "\"text\": \"While 0.7 is a commonly used temperature value, it is essential to consider alternative values depending on the specific task requirements. Experimenting with different temperature values can lead to improved performance and better-suited models for various applications.\"\n",
            "}\n",
            "}\n"
          ]
        }
      ]
    },
    {
      "cell_type": "code",
      "source": [
        "response_text = response.json()['content'][0]['text']\n",
        "print(remove_first_line(response_text.strip()))\n",
        "return response_text.strip()"
      ],
      "metadata": {
        "id": "1LzG2Ey_sOOQ"
      },
      "execution_count": null,
      "outputs": []
    },
    {
      "cell_type": "code",
      "source": [
        "def generate_text(prompt, model=\"claude-3-haiku-20240307\", max_tokens=2000, temperature=0.7):\n",
        "    headers = {\n",
        "        \"x-api-key\": ANTHROPIC_API_KEY,\n",
        "        \"anthropic-version\": \"2023-06-01\",\n",
        "        \"content-type\": \"application/json\"\n",
        "    }\n",
        "    data = {\n",
        "        \"model\": model,\n",
        "        \"max_tokens\": max_tokens,\n",
        "        \"temperature\": temperature,\n",
        "        \"system\": \"You are a world-class researcher. Analyze the given information and generate a well-structured report.\",\n",
        "        \"messages\": [{\"role\": \"user\", \"content\": prompt}],\n",
        "    }\n",
        "    response = requests.post(\"https://api.anthropic.com/v1/messages\", headers=headers, json=data)\n",
        "    print(response.json())\n",
        "    response_text = response.json()['content'][0]['text']\n",
        "    print(remove_first_line(response_text.strip()))\n",
        "    return response_text.strip()"
      ],
      "metadata": {
        "id": "HLl3HepWtAdN"
      },
      "execution_count": null,
      "outputs": []
    },
    {
      "cell_type": "code",
      "source": [
        "reply = generate_text(\"Why is 0.7 the default temperature value used for LLMs? Is there some academic backing?\")"
      ],
      "metadata": {
        "id": "okM8uBUByNQI"
      },
      "execution_count": null,
      "outputs": []
    },
    {
      "cell_type": "markdown",
      "source": [
        "# Define function to call search engine and search"
      ],
      "metadata": {
        "id": "KNKOI7DW9z2N"
      }
    },
    {
      "cell_type": "markdown",
      "source": [
        "The `search_web()` function is defined to perform a web search using the SERP API. It takes a search term as a parameter, constructs the API URL, sends a GET request to the SERP API, and returns the search results as JSON data."
      ],
      "metadata": {
        "id": "DV9v8v6MLtha"
      }
    },
    {
      "cell_type": "code",
      "source": [
        "def search_web(search_term):\n",
        "    url = f\"https://serpapi.com/search.json?q={search_term}&api_key={SERP_API_KEY}\"\n",
        "    response = requests.get(url)\n",
        "    data = response.json()\n",
        "    print(data)\n",
        "    return data"
      ],
      "metadata": {
        "id": "9NINjWLB9x9W"
      },
      "execution_count": null,
      "outputs": []
    },
    {
      "cell_type": "markdown",
      "source": [
        "# Define function to generate sub topics"
      ],
      "metadata": {
        "id": "8rvUzwJHLw5V"
      }
    },
    {
      "cell_type": "markdown",
      "source": [
        "The `generate_subtopic_report()` function is the core of the research automation process. It takes a subtopic as input and generates a comprehensive report on that subtopic. Here's a breakdown of its steps:\n",
        "+ It generates initial search queries for the subtopic using the `generate_text()` function.\n",
        "+ It performs multiple rounds of web searches using the `search_web()` function and the generated queries.\n",
        "+ After each search round, it generates additional search queries based on the search results and previous queries.\n",
        "+ It generates an initial report using the accumulated search data and the `generate_text()` function.\n",
        "+ It analyzes the initial report, identifies areas that need more detail, and generates additional search queries to fill in the gaps.\n",
        "+ It updates the report by incorporating the new information from the additional searches.\n",
        "+ It generates boss feedback on the report using the `generate_text()` function.\n",
        "+ Based on the boss's feedback, it generates a final round of search queries to find missing information and address areas that need further elaboration.\n",
        "+ It updates the report with the final information and returns the final report."
      ],
      "metadata": {
        "id": "9sSImOJOLwsT"
      }
    },
    {
      "cell_type": "code",
      "source": [
        "#@title generate_subtopic_report\n",
        "\n",
        "def generate_subtopic_report(subtopic):\n",
        "    search_data = []\n",
        "    all_queries = []\n",
        "\n",
        "    print(f\"Generating initial search queries for subtopic: {subtopic}...\")\n",
        "    initial_queries_prompt = f\"\"\"\n",
        "    Generate 3 search queries to gather information on the subtopic '{subtopic}'.\n",
        "    Return your queries in a Python-parseable list. Return nothing but the list. Do so in one line. Start your response with [\\\"\n",
        "    \"\"\"\n",
        "    initial_queries = ast.literal_eval('[' + generate_text(initial_queries_prompt).split('[')[1])\n",
        "    print(initial_queries)\n",
        "    all_queries.extend(initial_queries)\n",
        "\n",
        "    for i in range(3):\n",
        "        print(f\"Performing search round {i+1} for subtopic: {subtopic}...\")\n",
        "        for query in initial_queries:\n",
        "            search_results = search_web(query)\n",
        "            search_data.append(search_results)\n",
        "\n",
        "        print(f\"Generating additional search queries for subtopic: {subtopic}...\")\n",
        "        additional_queries_i_prompt = f\"\"\"\n",
        "        Here are the search results so far for the subtopic '{subtopic}':\\n\\n{str(search_data)}\\n\\n---\\n\\n\n",
        "        Here are all the search queries you have used so far for this subtopic:\\n\\n{str(all_queries)}\\n\\n---\\n\\n\n",
        "        Based on the search results and previous queries, generate 3 new and unique search queries to expand the knowledge on the subtopic '{subtopic}'.\n",
        "        Return your queries in a Python-parseable list. Return nothing but the list. Do so in one line. Start your response with [\\\"\n",
        "        \"\"\"\n",
        "        additional_queries_i = ast.literal_eval('[' + generate_text(additional_queries_i_prompt).split('[')[1])\n",
        "        all_queries.extend(additional_queries_i)\n",
        "        #initial_queries = additional_queries\n",
        "        #all_queries = initial_queries\n",
        "\n",
        "    print(f\"Generating initial report for subtopic: {subtopic}...\")\n",
        "    report_prompt = f\"\"\"\n",
        "    When writing your report, make it incredibly detailed, thorough, specific, and well-structured.\n",
        "    Use Markdown for formatting. Analyze the following search data and generate a comprehensive report on the subtopic '{subtopic}':\\n\\n{str(search_data)}\n",
        "    \"\"\"\n",
        "    report = generate_text(report_prompt, max_tokens=4000)\n",
        "\n",
        "    for i in range(3):\n",
        "        print(f\"Analyzing report and generating additional searches (Round {i+1}) for subtopic: {subtopic}...\")\n",
        "        analysis_prompt = f\"\"\"\n",
        "        Analyze the following report on the subtopic '{subtopic}' and identify areas that need more detail or further information:\\n\\n{report}\\n\\n---\\n\\n\n",
        "        Here are all the search queries you have used so far for this subtopic:\\n\\n{str(all_queries)}\\n\\n---\\n\\n\n",
        "        Generate 3 new and unique search queries to fill in the gaps and provide more detail on the identified areas.\n",
        "        Return your queries in a Python-parseable list. Return nothing but the list. Do so in one line. Start your response with [\\\"\n",
        "        \"\"\"\n",
        "        additional_queries_ii = ast.literal_eval('[' + generate_text(analysis_prompt).split('[')[1])\n",
        "        all_queries.extend(additional_queries_ii)\n",
        "\n",
        "        round_search_data = []\n",
        "        for query in additional_queries_ii:\n",
        "            search_results = search_web(query)\n",
        "            round_search_data.append(search_results)\n",
        "\n",
        "        print(f\"Updating report with additional information (Round {i+1}) for subtopic: {subtopic}...\")\n",
        "        update_prompt = f\"\"\"\n",
        "        Update the following report on the subtopic '{subtopic}' by incorporating the new information from the additional searches.\n",
        "        Keep all existing information... only add new information:\\n\\n{report}\\n\\n---\\n\\nAdditional search data for this round:\\n\\n{str(round_search_data)}\\n\\n---\\n\\n\n",
        "        Generate an updated report that includes the new information and provides more detail in the identified areas. Use Markdown for formatting.\n",
        "        \"\"\"\n",
        "        report = generate_text(update_prompt, max_tokens=4000)\n",
        "\n",
        "    print(f\"Generating boss feedback for subtopic: {subtopic}...\")\n",
        "    feedback_prompt = f\"\"\"\n",
        "    Imagine you are the boss reviewing the following report on the subtopic '{subtopic}':\\n\\n{report}\\n\\n---\\n\\n\n",
        "    Provide constructive feedback on what information is missing or needs further elaboration in the report.\n",
        "    Be specific and detailed in your feedback.\n",
        "    \"\"\"\n",
        "    feedback = generate_text(feedback_prompt, max_tokens=1000)\n",
        "\n",
        "    print(f\"Generating final round of searches based on feedback for subtopic: {subtopic}...\")\n",
        "    final_queries_prompt = f\"\"\"\n",
        "    Based on the following feedback from the boss regarding the subtopic '{subtopic}':\\n\\n{feedback}\\n\\n---\\n\\n\n",
        "    Generate 3 search queries to find the missing information and address the areas that need further elaboration.\n",
        "    Return your queries in a Python-parseable list. Return nothing but the list. Do so in one line. Start your response with [\\\"\n",
        "    \"\"\"\n",
        "    final_queries = ast.literal_eval('[' + generate_text(final_queries_prompt).split('[')[1])\n",
        "    all_queries.extend(final_queries)\n",
        "\n",
        "    final_search_data = []\n",
        "    for query in final_queries:\n",
        "        search_results = search_web(query)\n",
        "        final_search_data.append(search_results)\n",
        "\n",
        "    print(f\"Updating report with final information for subtopic: {subtopic}...\")\n",
        "    final_update_prompt = f\"\"\"\n",
        "    Update the following report on the subtopic '{subtopic}' by incorporating the new information from the final round of searches\n",
        "    based on the boss's feedback:\\n\\n{report}\\n\\n---\\n\\nFinal search data:\\n\\n{str(final_search_data)}\\n\\n---\\n\\n\n",
        "    Generate the final report that addresses the boss's feedback and includes the missing information. Use Markdown for formatting.\n",
        "    \"\"\"\n",
        "    final_report = generate_text(final_update_prompt, max_tokens=4000)\n",
        "\n",
        "    print(f\"Final report generated for subtopic: {subtopic}!\")\n",
        "    return final_report"
      ],
      "metadata": {
        "id": "v86Um5ZG_V7C",
        "cellView": "form"
      },
      "execution_count": null,
      "outputs": []
    },
    {
      "cell_type": "markdown",
      "source": [
        "## Reconstructing into shorter functions"
      ],
      "metadata": {
        "id": "aVcR7492BXsj"
      }
    },
    {
      "cell_type": "markdown",
      "source": [
        "The `generate_comprehensive_report()` function takes the research topic and the subtopic reports as input. It generates a comprehensive report by combining the subtopic reports, ensuring that all important aspects are covered and the report is well-structured and coherent."
      ],
      "metadata": {
        "id": "o7ed9XZhMd0u"
      }
    },
    {
      "cell_type": "code",
      "source": [
        "def generate_comprehensive_report(topic, subtopic_reports):\n",
        "    print(\"Generating comprehensive report...\")\n",
        "    comprehensive_report_prompt = f\"Generate a comprehensive report on the topic '{topic}' by combining the following reports on various subtopics:\\n\\n{subtopic_reports}\\n\\n---\\n\\nEnsure that the final report is well-structured, coherent, and covers all the important aspects of the topic. Make sure that it includes EVERYTHING in each of the reports, in a better structured, more info-heavy manner. Nothing -- absolutely nothing, should be left out. If you forget to include ANYTHING from any of the previous reports, you will face the consequences. Include a table of contents. Leave nothing out. Use Markdown for formatting.\"\n",
        "    comprehensive_report = generate_text(comprehensive_report_prompt, model=\"claude-3-opus-20240229\", max_tokens=4000)\n",
        "\n",
        "    print(\"Comprehensive report generated!\")\n",
        "    return comprehensive_report\n",
        "\n"
      ],
      "metadata": {
        "id": "KHJcqwWe4rgN"
      },
      "execution_count": null,
      "outputs": []
    },
    {
      "cell_type": "markdown",
      "source": [
        "The script prompts the user to enter the research topic.  \n",
        "\n",
        "It generates a checklist of subtopics for the given research topic using the `generate_text()` function.  \n",
        "\n",
        "For each subtopic in the checklist, it calls the `generate_subtopic_report()` function to generate a report.  \n",
        "\n",
        "After generating reports for all subtopics, it calls the `generate_comprehensive_report()` function to combine the subtopic reports into a comprehensive report.  \n",
        "\n",
        "Finally, it saves the comprehensive report to a file named \"comprehensive_report.txt\"."
      ],
      "metadata": {
        "id": "uyMnAQznMrdj"
      }
    },
    {
      "cell_type": "code",
      "source": [
        "# User input\n",
        "research_topic = input(\"Enter the research topic: \")\n",
        "\n",
        "# Generate subtopic checklist\n",
        "subtopic_checklist_prompt = f\"Generate a detailed checklist of subtopics to research for the topic '{research_topic}'. Return your checklist in a Python-parseable list. Return nothing but the list. Do so in one line. Maximum five sub-topics. Start your response with [\\\"\"\n",
        "subtopic_checklist = ast.literal_eval('[' + generate_text(subtopic_checklist_prompt).split('[')[1])\n",
        "print(f\"Subtopic Checklist: {subtopic_checklist}\")\n",
        "\n",
        "# Generate reports for each subtopic\n",
        "subtopic_reports = []\n",
        "for subtopic in subtopic_checklist:\n",
        "    subtopic_report = generate_subtopic_report(subtopic)\n",
        "    subtopic_reports.append(subtopic_report)\n",
        "\n",
        "# Combine subtopic reports into a comprehensive report\n",
        "comprehensive_report = generate_comprehensive_report(research_topic, \"\\n\\n\".join(subtopic_reports))\n",
        "\n",
        "# Save the comprehensive report to a file\n",
        "with open(\"comprehensive_report.txt\", \"w\") as file:\n",
        "    file.write(comprehensive_report)\n",
        "\n",
        "print(\"Comprehensive report saved as 'comprehensive_report.txt'.\")"
      ],
      "metadata": {
        "id": "qdk_6qTVxb-e"
      },
      "execution_count": null,
      "outputs": []
    }
  ]
}