{
  "nbformat": 4,
  "nbformat_minor": 0,
  "metadata": {
    "colab": {
      "provenance": [],
      "authorship_tag": "ABX9TyOWvXKSLtPT2hRagqy+tUT2",
      "include_colab_link": true
    },
    "kernelspec": {
      "name": "python3",
      "display_name": "Python 3"
    },
    "language_info": {
      "name": "python"
    }
  },
  "cells": [
    {
      "cell_type": "markdown",
      "metadata": {
        "id": "view-in-github",
        "colab_type": "text"
      },
      "source": [
        "<a href=\"https://colab.research.google.com/github/DesmondChoy/llm_tutorials/blob/main/claudette.ipynb\" target=\"_parent\"><img src=\"https://colab.research.google.com/assets/colab-badge.svg\" alt=\"Open In Colab\"/></a>"
      ]
    },
    {
      "cell_type": "markdown",
      "source": [
        "# Import / Install"
      ],
      "metadata": {
        "id": "WxgzIM2RwQQK"
      }
    },
    {
      "cell_type": "markdown",
      "source": [
        "Trying out the `Claudette` library. See related [blog post](https://www.answer.ai/posts/2024-06-21-claudette.html) and [documentation](https://claudette.answer.ai/)."
      ],
      "metadata": {
        "id": "fY3Vxnk3qoeF"
      }
    },
    {
      "cell_type": "code",
      "source": [
        "!pip install claudette -qq"
      ],
      "metadata": {
        "id": "qYdXCvBEosaW"
      },
      "execution_count": 1,
      "outputs": []
    },
    {
      "cell_type": "code",
      "execution_count": 2,
      "metadata": {
        "id": "TGMRQlmXocG0"
      },
      "outputs": [],
      "source": [
        "import os\n",
        "from claudette import *\n",
        "from google.colab import userdata\n",
        "\n",
        "os.environ['ANTHROPIC_LOG'] = 'debug'\n",
        "os.environ['ANTHROPIC_API_KEY'] = userdata.get('ANTHROPIC_API_KEY')\n"
      ]
    },
    {
      "cell_type": "markdown",
      "source": [
        "Print all Claude models:"
      ],
      "metadata": {
        "id": "Se5UOJbpq802"
      }
    },
    {
      "cell_type": "code",
      "source": [
        "models"
      ],
      "metadata": {
        "colab": {
          "base_uri": "https://localhost:8080/"
        },
        "id": "TWa64-cVpWbr",
        "outputId": "2ddba8e5-12f4-49f6-8676-a12b61df4c7e"
      },
      "execution_count": 3,
      "outputs": [
        {
          "output_type": "execute_result",
          "data": {
            "text/plain": [
              "('claude-3-opus-20240229',\n",
              " 'claude-3-5-sonnet-20240620',\n",
              " 'claude-3-haiku-20240307')"
            ]
          },
          "metadata": {},
          "execution_count": 3
        }
      ]
    },
    {
      "cell_type": "markdown",
      "source": [
        "We'll go with Claude 3.5 Sonnet."
      ],
      "metadata": {
        "id": "lM7ZznsjrBXn"
      }
    },
    {
      "cell_type": "code",
      "source": [
        "model = models[1]"
      ],
      "metadata": {
        "id": "MQT_nrA8pbMl"
      },
      "execution_count": 4,
      "outputs": []
    },
    {
      "cell_type": "markdown",
      "source": [
        "# Chat with memory"
      ],
      "metadata": {
        "id": "p2xizr91wUnc"
      }
    },
    {
      "cell_type": "markdown",
      "source": [
        "Chat away!"
      ],
      "metadata": {
        "id": "CAFJNKaCrIZc"
      }
    },
    {
      "cell_type": "code",
      "source": [
        "chat = Chat(model, sp=\"\"\"You are a helpful and concise assistant.\"\"\")\n",
        "chat(\"Hello I'm Desmond.\")"
      ],
      "metadata": {
        "colab": {
          "base_uri": "https://localhost:8080/",
          "height": 64
        },
        "id": "7ZVZzHjSpgT2",
        "outputId": "c2bc2599-c809-4c77-d826-68e6d1b258d4"
      },
      "execution_count": 6,
      "outputs": [
        {
          "output_type": "execute_result",
          "data": {
            "text/plain": [
              "Message(id='msg_01Tq9CpdKfBCL7LnsKc4Khpv', content=[TextBlock(text=\"Hello Desmond! It's nice to meet you. How can I assist you today?\", type='text')], model='claude-3-5-sonnet-20240620', role='assistant', stop_reason='end_turn', stop_sequence=None, type='message', usage=In: 23; Out: 22; Total: 45)"
            ],
            "text/markdown": "Hello Desmond! It's nice to meet you. How can I assist you today?\n\n<details>\n\n- id: msg_01Tq9CpdKfBCL7LnsKc4Khpv\n- content: [{'text': \"Hello Desmond! It's nice to meet you. How can I assist you today?\", 'type': 'text'}]\n- model: claude-3-5-sonnet-20240620\n- role: assistant\n- stop_reason: end_turn\n- stop_sequence: None\n- type: message\n- usage: {'input_tokens': 23, 'output_tokens': 22}\n\n</details>"
          },
          "metadata": {},
          "execution_count": 6
        }
      ]
    },
    {
      "cell_type": "code",
      "source": [
        "r = chat(\"What do you know about me?\")\n",
        "r"
      ],
      "metadata": {
        "colab": {
          "base_uri": "https://localhost:8080/",
          "height": 116
        },
        "id": "K2nwxZ6rrTt-",
        "outputId": "247f991e-0f03-4130-a4f0-6c0bd44b3e09"
      },
      "execution_count": 7,
      "outputs": [
        {
          "output_type": "execute_result",
          "data": {
            "text/plain": [
              "Message(id='msg_01PYj9eAyVJa5PX3onwM6yNP', content=[TextBlock(text=\"As an AI language model, I don't have any prior knowledge about you beyond what you've told me in this conversation. I only know that your name is Desmond, which you just shared. I don't have access to personal information or data about individuals unless it's provided during our conversation. Is there anything specific you'd like to share or ask about?\", type='text')], model='claude-3-5-sonnet-20240620', role='assistant', stop_reason='end_turn', stop_sequence=None, type='message', usage=In: 55; Out: 77; Total: 132)"
            ],
            "text/markdown": "As an AI language model, I don't have any prior knowledge about you beyond what you've told me in this conversation. I only know that your name is Desmond, which you just shared. I don't have access to personal information or data about individuals unless it's provided during our conversation. Is there anything specific you'd like to share or ask about?\n\n<details>\n\n- id: msg_01PYj9eAyVJa5PX3onwM6yNP\n- content: [{'text': \"As an AI language model, I don't have any prior knowledge about you beyond what you've told me in this conversation. I only know that your name is Desmond, which you just shared. I don't have access to personal information or data about individuals unless it's provided during our conversation. Is there anything specific you'd like to share or ask about?\", 'type': 'text'}]\n- model: claude-3-5-sonnet-20240620\n- role: assistant\n- stop_reason: end_turn\n- stop_sequence: None\n- type: message\n- usage: {'input_tokens': 55, 'output_tokens': 77}\n\n</details>"
          },
          "metadata": {},
          "execution_count": 7
        }
      ]
    },
    {
      "cell_type": "code",
      "source": [
        "r = chat(\"I started off my data science journey with R, but I'm now stuck in the rabbit hole known as Python.\")\n",
        "r"
      ],
      "metadata": {
        "colab": {
          "base_uri": "https://localhost:8080/",
          "height": 249
        },
        "id": "cdt6qcbarfs7",
        "outputId": "38a0f8d0-c688-4284-9dc2-d4e0d733d3b3"
      },
      "execution_count": 8,
      "outputs": [
        {
          "output_type": "execute_result",
          "data": {
            "text/plain": [
              "Message(id='msg_011e3mtx4BbPaK7udJqjUJnG', content=[TextBlock(text='Thank you for sharing that information about your data science journey, Desmond. It\\'s quite common for data scientists to start with R and then transition to Python, or to use both languages depending on the project requirements. Python has indeed become very popular in the data science field due to its versatility, extensive libraries, and strong community support.\\n\\nSince you mentioned being \"stuck in the rabbit hole\" of Python, it sounds like you\\'ve found it to be a deep and engaging language to learn. Python\\'s ecosystem for data science, including libraries like pandas, NumPy, scikit-learn, and matplotlib, offers a wide range of tools for data manipulation, analysis, and visualization.\\n\\nIf you have any specific questions about Python for data science or want to discuss any particular aspects of your journey, feel free to ask. I\\'d be happy to help or provide information based on your interests or challenges in this area.', type='text')], model='claude-3-5-sonnet-20240620', role='assistant', stop_reason='end_turn', stop_sequence=None, type='message', usage=In: 158; Out: 190; Total: 348)"
            ],
            "text/markdown": "Thank you for sharing that information about your data science journey, Desmond. It's quite common for data scientists to start with R and then transition to Python, or to use both languages depending on the project requirements. Python has indeed become very popular in the data science field due to its versatility, extensive libraries, and strong community support.\n\nSince you mentioned being \"stuck in the rabbit hole\" of Python, it sounds like you've found it to be a deep and engaging language to learn. Python's ecosystem for data science, including libraries like pandas, NumPy, scikit-learn, and matplotlib, offers a wide range of tools for data manipulation, analysis, and visualization.\n\nIf you have any specific questions about Python for data science or want to discuss any particular aspects of your journey, feel free to ask. I'd be happy to help or provide information based on your interests or challenges in this area.\n\n<details>\n\n- id: msg_011e3mtx4BbPaK7udJqjUJnG\n- content: [{'text': 'Thank you for sharing that information about your data science journey, Desmond. It\\'s quite common for data scientists to start with R and then transition to Python, or to use both languages depending on the project requirements. Python has indeed become very popular in the data science field due to its versatility, extensive libraries, and strong community support.\\n\\nSince you mentioned being \"stuck in the rabbit hole\" of Python, it sounds like you\\'ve found it to be a deep and engaging language to learn. Python\\'s ecosystem for data science, including libraries like pandas, NumPy, scikit-learn, and matplotlib, offers a wide range of tools for data manipulation, analysis, and visualization.\\n\\nIf you have any specific questions about Python for data science or want to discuss any particular aspects of your journey, feel free to ask. I\\'d be happy to help or provide information based on your interests or challenges in this area.', 'type': 'text'}]\n- model: claude-3-5-sonnet-20240620\n- role: assistant\n- stop_reason: end_turn\n- stop_sequence: None\n- type: message\n- usage: {'input_tokens': 158, 'output_tokens': 190}\n\n</details>"
          },
          "metadata": {},
          "execution_count": 8
        }
      ]
    },
    {
      "cell_type": "code",
      "source": [
        "r = chat(\"Summarize all that I've shared about myself.\")\n",
        "r"
      ],
      "metadata": {
        "colab": {
          "base_uri": "https://localhost:8080/",
          "height": 196
        },
        "id": "xU6gVP8Zrwe4",
        "outputId": "197d916d-114d-46f1-bb16-6db8d54672ed"
      },
      "execution_count": 9,
      "outputs": [
        {
          "output_type": "execute_result",
          "data": {
            "text/plain": [
              "Message(id='msg_01WcstPPFq8vx5AJcUsc6au8', content=[TextBlock(text='Based on our conversation, here\\'s a summary of what you\\'ve shared about yourself:\\n\\n1. Your name is Desmond.\\n2. You started your data science journey with R.\\n3. You\\'ve now transitioned to Python, describing it as a \"rabbit hole\" you\\'re stuck in, which suggests you\\'re deeply engaged with learning and using Python.\\n4. You have experience with both R and Python in the context of data science.\\n\\nThat\\'s all the information you\\'ve directly provided about yourself in our conversation so far.', type='text')], model='claude-3-5-sonnet-20240620', role='assistant', stop_reason='end_turn', stop_sequence=None, type='message', usage=In: 362; Out: 114; Total: 476)"
            ],
            "text/markdown": "Based on our conversation, here's a summary of what you've shared about yourself:\n\n1. Your name is Desmond.\n2. You started your data science journey with R.\n3. You've now transitioned to Python, describing it as a \"rabbit hole\" you're stuck in, which suggests you're deeply engaged with learning and using Python.\n4. You have experience with both R and Python in the context of data science.\n\nThat's all the information you've directly provided about yourself in our conversation so far.\n\n<details>\n\n- id: msg_01WcstPPFq8vx5AJcUsc6au8\n- content: [{'text': 'Based on our conversation, here\\'s a summary of what you\\'ve shared about yourself:\\n\\n1. Your name is Desmond.\\n2. You started your data science journey with R.\\n3. You\\'ve now transitioned to Python, describing it as a \"rabbit hole\" you\\'re stuck in, which suggests you\\'re deeply engaged with learning and using Python.\\n4. You have experience with both R and Python in the context of data science.\\n\\nThat\\'s all the information you\\'ve directly provided about yourself in our conversation so far.', 'type': 'text'}]\n- model: claude-3-5-sonnet-20240620\n- role: assistant\n- stop_reason: end_turn\n- stop_sequence: None\n- type: message\n- usage: {'input_tokens': 362, 'output_tokens': 114}\n\n</details>"
          },
          "metadata": {},
          "execution_count": 9
        }
      ]
    },
    {
      "cell_type": "markdown",
      "source": [
        "This is pretty cool - Claudette supports memory chat without manually remembering to append previous answers.\n",
        "\n",
        "The collapsible widgets also prints number of input/output tokens!"
      ],
      "metadata": {
        "id": "Bj-P3MHnsBTs"
      }
    },
    {
      "cell_type": "markdown",
      "source": [
        "# Chat with pre-fill"
      ],
      "metadata": {
        "id": "9t5N6R0rweaH"
      }
    },
    {
      "cell_type": "markdown",
      "source": [
        "`prefill` arg offers flexibility to tweak the angle of the output."
      ],
      "metadata": {
        "id": "RNFfksKewwh0"
      }
    },
    {
      "cell_type": "code",
      "source": [
        "chat(\"Give me some tips if I wanted to improve my understanding with deep learning\",\n",
        "     prefill=\"Here's a brief background of Jeremy Howard, and his five top tips:\")"
      ],
      "metadata": {
        "colab": {
          "base_uri": "https://localhost:8080/",
          "height": 301
        },
        "id": "usYwAWx7uMON",
        "outputId": "408a74c8-9843-40de-e825-71d080ffdf97"
      },
      "execution_count": 14,
      "outputs": [
        {
          "output_type": "execute_result",
          "data": {
            "text/plain": [
              "Message(id='msg_01RMGkx8NsrYcPEAj1wE1Ch8', content=[TextBlock(text=\"Here's a brief background of Jeremy Howard, and his five top tips: \\n\\nJeremy Howard is a data scientist, researcher, and entrepreneur. He's the founder of fast.ai, a research institute dedicated to making deep learning more accessible.\\n\\nHis top tips for improving understanding of deep learning:\\n\\n1. Learn by doing: Start with practical projects immediately.\\n\\n2. Use transfer learning: Leverage pre-trained models to achieve good results quickly.\\n\\n3. Focus on data: Good data often matters more than model architecture.\\n\\n4. Embrace simplicity: Start simple and only add complexity when needed.\\n\\n5. Understand the fundamentals: Know why models work, not just how to use them.\\n\\nHoward emphasizes a top-down, practical approach to learning deep learning, focusing on getting results first and then diving deeper into theory as needed.\", type='text')], model='claude-3-5-sonnet-20240620', role='assistant', stop_reason='end_turn', stop_sequence=None, type='message', usage=In: 1751; Out: 164; Total: 1915)"
            ],
            "text/markdown": "Here's a brief background of Jeremy Howard, and his five top tips: \n\nJeremy Howard is a data scientist, researcher, and entrepreneur. He's the founder of fast.ai, a research institute dedicated to making deep learning more accessible.\n\nHis top tips for improving understanding of deep learning:\n\n1. Learn by doing: Start with practical projects immediately.\n\n2. Use transfer learning: Leverage pre-trained models to achieve good results quickly.\n\n3. Focus on data: Good data often matters more than model architecture.\n\n4. Embrace simplicity: Start simple and only add complexity when needed.\n\n5. Understand the fundamentals: Know why models work, not just how to use them.\n\nHoward emphasizes a top-down, practical approach to learning deep learning, focusing on getting results first and then diving deeper into theory as needed.\n\n<details>\n\n- id: msg_01RMGkx8NsrYcPEAj1wE1Ch8\n- content: [{'text': \"Here's a brief background of Jeremy Howard, and his five top tips: \\n\\nJeremy Howard is a data scientist, researcher, and entrepreneur. He's the founder of fast.ai, a research institute dedicated to making deep learning more accessible.\\n\\nHis top tips for improving understanding of deep learning:\\n\\n1. Learn by doing: Start with practical projects immediately.\\n\\n2. Use transfer learning: Leverage pre-trained models to achieve good results quickly.\\n\\n3. Focus on data: Good data often matters more than model architecture.\\n\\n4. Embrace simplicity: Start simple and only add complexity when needed.\\n\\n5. Understand the fundamentals: Know why models work, not just how to use them.\\n\\nHoward emphasizes a top-down, practical approach to learning deep learning, focusing on getting results first and then diving deeper into theory as needed.\", 'type': 'text'}]\n- model: claude-3-5-sonnet-20240620\n- role: assistant\n- stop_reason: end_turn\n- stop_sequence: None\n- type: message\n- usage: {'input_tokens': 1751, 'output_tokens': 164}\n\n</details>"
          },
          "metadata": {},
          "execution_count": 14
        }
      ]
    },
    {
      "cell_type": "code",
      "source": [
        "chat(\"Give me some tips if I wanted to improve my understanding with deep learning\",\n",
        "     prefill=\"Here's a brief background of Andrew Ng, and his five top tips:\")"
      ],
      "metadata": {
        "colab": {
          "base_uri": "https://localhost:8080/",
          "height": 301
        },
        "id": "QnWAQ2CMv1Sg",
        "outputId": "7010046b-3690-4ec9-b91a-5718c974cd0a"
      },
      "execution_count": 15,
      "outputs": [
        {
          "output_type": "execute_result",
          "data": {
            "text/plain": [
              "Message(id='msg_01LvSMQPYX6Maduh5ym8deNb', content=[TextBlock(text=\"Here's a brief background of Andrew Ng, and his five top tips: \\n\\nAndrew Ng is a computer scientist and entrepreneur, known for co-founding Coursera and his work in AI. He was formerly the head of Google Brain and Baidu AI Group.\\n\\nHis top tips for improving understanding of deep learning:\\n\\n1. Master the basics: Ensure a solid foundation in linear algebra, probability, and coding.\\n\\n2. Implement from scratch: Code basic neural networks without frameworks to truly understand them.\\n\\n3. Study the latest research: Regularly read AI papers to stay current with new developments.\\n\\n4. Practice structured problem-solving: Develop a systematic approach to tackling ML problems.\\n\\n5. Focus on intuition: Strive to understand why techniques work, not just how to use them.\\n\\nNg emphasizes a bottom-up approach, focusing on building a strong theoretical foundation alongside practical skills. He believes in deeply understanding the underlying principles of deep learning.\", type='text')], model='claude-3-5-sonnet-20240620', role='assistant', stop_reason='end_turn', stop_sequence=None, type='message', usage=In: 1948; Out: 193; Total: 2141)"
            ],
            "text/markdown": "Here's a brief background of Andrew Ng, and his five top tips: \n\nAndrew Ng is a computer scientist and entrepreneur, known for co-founding Coursera and his work in AI. He was formerly the head of Google Brain and Baidu AI Group.\n\nHis top tips for improving understanding of deep learning:\n\n1. Master the basics: Ensure a solid foundation in linear algebra, probability, and coding.\n\n2. Implement from scratch: Code basic neural networks without frameworks to truly understand them.\n\n3. Study the latest research: Regularly read AI papers to stay current with new developments.\n\n4. Practice structured problem-solving: Develop a systematic approach to tackling ML problems.\n\n5. Focus on intuition: Strive to understand why techniques work, not just how to use them.\n\nNg emphasizes a bottom-up approach, focusing on building a strong theoretical foundation alongside practical skills. He believes in deeply understanding the underlying principles of deep learning.\n\n<details>\n\n- id: msg_01LvSMQPYX6Maduh5ym8deNb\n- content: [{'text': \"Here's a brief background of Andrew Ng, and his five top tips: \\n\\nAndrew Ng is a computer scientist and entrepreneur, known for co-founding Coursera and his work in AI. He was formerly the head of Google Brain and Baidu AI Group.\\n\\nHis top tips for improving understanding of deep learning:\\n\\n1. Master the basics: Ensure a solid foundation in linear algebra, probability, and coding.\\n\\n2. Implement from scratch: Code basic neural networks without frameworks to truly understand them.\\n\\n3. Study the latest research: Regularly read AI papers to stay current with new developments.\\n\\n4. Practice structured problem-solving: Develop a systematic approach to tackling ML problems.\\n\\n5. Focus on intuition: Strive to understand why techniques work, not just how to use them.\\n\\nNg emphasizes a bottom-up approach, focusing on building a strong theoretical foundation alongside practical skills. He believes in deeply understanding the underlying principles of deep learning.\", 'type': 'text'}]\n- model: claude-3-5-sonnet-20240620\n- role: assistant\n- stop_reason: end_turn\n- stop_sequence: None\n- type: message\n- usage: {'input_tokens': 1948, 'output_tokens': 193}\n\n</details>"
          },
          "metadata": {},
          "execution_count": 15
        }
      ]
    },
    {
      "cell_type": "markdown",
      "source": [],
      "metadata": {
        "id": "bodNJHu1wkEK"
      }
    },
    {
      "cell_type": "code",
      "source": [],
      "metadata": {
        "id": "ryTXgGGZws47"
      },
      "execution_count": null,
      "outputs": []
    }
  ]
}